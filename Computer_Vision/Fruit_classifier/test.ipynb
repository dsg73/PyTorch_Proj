{
 "cells": [
  {
   "cell_type": "markdown",
   "metadata": {},
   "source": [
    "## Import Required Libraries"
   ]
  },
  {
   "cell_type": "code",
   "execution_count": 1,
   "metadata": {},
   "outputs": [
    {
     "name": "stdout",
     "output_type": "stream",
     "text": [
      "2.1.2.post2\n",
      "0.16.1\n"
     ]
    }
   ],
   "source": [
    "# Import Pytorch\n",
    "import torch\n",
    "from torch import nn\n",
    "\n",
    "# Import torchvision\n",
    "import torchvision\n",
    "from torchvision import datasets\n",
    "from torchvision import transforms\n",
    "from torchvision.transforms import ToTensor\n",
    "\n",
    "# import matplotlib\n",
    "import matplotlib.pyplot as plt\n",
    "\n",
    "# Check versions\n",
    "print(torch.__version__)\n",
    "print(torchvision.__version__)\n"
   ]
  },
  {
   "cell_type": "markdown",
   "metadata": {},
   "source": [
    "## Loading the dataset"
   ]
  },
  {
   "cell_type": "code",
   "execution_count": 49,
   "metadata": {},
   "outputs": [],
   "source": [
    "import torchvision.transforms as transforms\n",
    "from torch.utils.data import DataLoader, Dataset\n",
    "from torchvision.datasets import ImageFolder\n",
    "\n",
    "# Define transformation to apply to the images\n",
    "transform = transforms.Compose([\n",
    "    transforms.Resize((28, 28)),  # Resize images to 224x224\n",
    "    transforms.ToTensor(),           # Convert images to tensors\n",
    "])\n",
    "\n",
    "# Define paths to your train and validation data\n",
    "train_path = 'train'\n",
    "val_path = 'validation'\n",
    "\n",
    "# Load the train and validation datasets using ImageFolder\n",
    "train_data = ImageFolder(root=train_path, transform=transform)\n",
    "test_data = ImageFolder(root=val_path, transform=transform)"
   ]
  },
  {
   "cell_type": "code",
   "execution_count": 50,
   "metadata": {},
   "outputs": [
    {
     "data": {
      "text/plain": [
       "(41322, 13877)"
      ]
     },
     "execution_count": 50,
     "metadata": {},
     "output_type": "execute_result"
    }
   ],
   "source": [
    "len(train_data), len(test_data)"
   ]
  },
  {
   "cell_type": "code",
   "execution_count": 51,
   "metadata": {},
   "outputs": [
    {
     "data": {
      "text/plain": [
       "(tensor([[[0.9922, 0.9961, 0.9922,  ..., 1.0000, 0.9922, 1.0000],\n",
       "          [0.9922, 1.0000, 0.9922,  ..., 0.9961, 0.9922, 1.0000],\n",
       "          [0.9961, 0.9961, 0.9961,  ..., 0.9922, 0.9961, 1.0000],\n",
       "          ...,\n",
       "          [0.9961, 1.0000, 1.0000,  ..., 1.0000, 1.0000, 1.0000],\n",
       "          [1.0000, 0.9961, 0.9961,  ..., 1.0000, 1.0000, 1.0000],\n",
       "          [1.0000, 1.0000, 1.0000,  ..., 1.0000, 1.0000, 1.0000]],\n",
       " \n",
       "         [[0.9961, 0.9961, 1.0000,  ..., 1.0000, 1.0000, 1.0000],\n",
       "          [0.9961, 0.9961, 1.0000,  ..., 0.9961, 1.0000, 1.0000],\n",
       "          [0.9922, 1.0000, 0.9961,  ..., 0.9961, 0.9961, 1.0000],\n",
       "          ...,\n",
       "          [1.0000, 1.0000, 0.9961,  ..., 1.0000, 1.0000, 1.0000],\n",
       "          [0.9961, 1.0000, 1.0000,  ..., 1.0000, 1.0000, 1.0000],\n",
       "          [1.0000, 1.0000, 1.0000,  ..., 1.0000, 1.0000, 1.0000]],\n",
       " \n",
       "         [[0.9961, 1.0000, 1.0000,  ..., 1.0000, 1.0000, 1.0000],\n",
       "          [1.0000, 0.9961, 0.9922,  ..., 0.9961, 0.9961, 1.0000],\n",
       "          [1.0000, 0.9922, 0.9961,  ..., 0.9961, 0.9961, 1.0000],\n",
       "          ...,\n",
       "          [1.0000, 1.0000, 0.9961,  ..., 1.0000, 1.0000, 1.0000],\n",
       "          [1.0000, 1.0000, 0.9961,  ..., 1.0000, 1.0000, 1.0000],\n",
       "          [1.0000, 1.0000, 1.0000,  ..., 1.0000, 1.0000, 1.0000]]]),\n",
       " 0)"
      ]
     },
     "execution_count": 51,
     "metadata": {},
     "output_type": "execute_result"
    }
   ],
   "source": [
    "image,label = train_data[2]\n",
    "image, label"
   ]
  },
  {
   "cell_type": "code",
   "execution_count": 52,
   "metadata": {},
   "outputs": [
    {
     "data": {
      "text/plain": [
       "['Apple Braeburn',\n",
       " 'Apple Golden 1',\n",
       " 'Apple Golden 2',\n",
       " 'Apple Golden 3',\n",
       " 'Apple Granny Smith',\n",
       " 'Apple Red 1',\n",
       " 'Apple Red 2',\n",
       " 'Apple Red 3',\n",
       " 'Apple Red Delicious',\n",
       " 'Apple Red Yellow',\n",
       " 'Apricot',\n",
       " 'Avocado',\n",
       " 'Avocado ripe',\n",
       " 'Banana',\n",
       " 'Banana Red',\n",
       " 'Cactus fruit',\n",
       " 'Cantaloupe 1',\n",
       " 'Cantaloupe 2',\n",
       " 'Carambula',\n",
       " 'Cherry 1',\n",
       " 'Cherry 2',\n",
       " 'Cherry Rainier',\n",
       " 'Cherry Wax Black',\n",
       " 'Cherry Wax Red',\n",
       " 'Cherry Wax Yellow',\n",
       " 'Clementine',\n",
       " 'Cocos',\n",
       " 'Dates',\n",
       " 'Granadilla',\n",
       " 'Grape Pink',\n",
       " 'Grape White',\n",
       " 'Grape White 2',\n",
       " 'Grapefruit Pink',\n",
       " 'Grapefruit White',\n",
       " 'Guava',\n",
       " 'Huckleberry',\n",
       " 'Kaki',\n",
       " 'Kiwi',\n",
       " 'Kumquats',\n",
       " 'Lemon',\n",
       " 'Lemon Meyer',\n",
       " 'Limes',\n",
       " 'Lychee',\n",
       " 'Mandarine',\n",
       " 'Mango',\n",
       " 'Maracuja',\n",
       " 'Melon Piel de Sapo',\n",
       " 'Mulberry',\n",
       " 'Nectarine',\n",
       " 'Orange',\n",
       " 'Papaya',\n",
       " 'Passion Fruit',\n",
       " 'Peach',\n",
       " 'Peach Flat',\n",
       " 'Pear',\n",
       " 'Pear Abate',\n",
       " 'Pear Monster',\n",
       " 'Pear Williams',\n",
       " 'Pepino',\n",
       " 'Physalis',\n",
       " 'Physalis with Husk',\n",
       " 'Pineapple',\n",
       " 'Pineapple Mini',\n",
       " 'Pitahaya Red',\n",
       " 'Plum',\n",
       " 'Pomegranate',\n",
       " 'Quince',\n",
       " 'Rambutan',\n",
       " 'Raspberry',\n",
       " 'Salak',\n",
       " 'Strawberry',\n",
       " 'Strawberry Wedge',\n",
       " 'Tamarillo',\n",
       " 'Tangelo',\n",
       " 'Tomato 1',\n",
       " 'Tomato 2',\n",
       " 'Tomato 3',\n",
       " 'Tomato 4',\n",
       " 'Tomato Cherry Red',\n",
       " 'Tomato Maroon',\n",
       " 'Walnut']"
      ]
     },
     "execution_count": 52,
     "metadata": {},
     "output_type": "execute_result"
    }
   ],
   "source": [
    "class_names = train_data.classes\n",
    "class_names"
   ]
  },
  {
   "cell_type": "code",
   "execution_count": 53,
   "metadata": {},
   "outputs": [
    {
     "name": "stdout",
     "output_type": "stream",
     "text": [
      "Image shape: torch.Size([3, 28, 28]) -> [color_channels, height, width]\n",
      "Image Label: shape: Apple Braeburn \n"
     ]
    }
   ],
   "source": [
    "# Check the shape of our images\n",
    "print(f\"Image shape: {image.shape} -> [color_channels, height, width]\")\n",
    "print(f\"Image Label: shape: {class_names[label]} \")\n"
   ]
  },
  {
   "cell_type": "code",
   "execution_count": 54,
   "metadata": {},
   "outputs": [
    {
     "name": "stdout",
     "output_type": "stream",
     "text": [
      "Image shape:torch.Size([3, 28, 28])\n"
     ]
    },
    {
     "data": {
      "text/plain": [
       "Text(0.5, 1.0, '0')"
      ]
     },
     "execution_count": 54,
     "metadata": {},
     "output_type": "execute_result"
    },
    {
     "data": {
      "image/png": "[encoded data removed]",
      "text/plain": [
       "<Figure size 640x480 with 1 Axes>"
      ]
     },
     "metadata": {},
     "output_type": "display_data"
    }
   ],
   "source": [
    "import matplotlib.pyplot as plt\n",
    "image, label = train_data[0]\n",
    "print(f\"Image shape:{image.shape}\")\n",
    "image = image.permute(1, 2, 0)\n",
    "plt.imshow(image)\n",
    "plt.title(label)"
   ]
  },
  {
   "cell_type": "code",
   "execution_count": 55,
   "metadata": {},
   "outputs": [
    {
     "data": {
      "text/plain": [
       "(Dataset ImageFolder\n",
       "     Number of datapoints: 41322\n",
       "     Root location: train\n",
       "     StandardTransform\n",
       " Transform: Compose(\n",
       "                Resize(size=(28, 28), interpolation=bilinear, max_size=None, antialias=warn)\n",
       "                ToTensor()\n",
       "            ),\n",
       " Dataset ImageFolder\n",
       "     Number of datapoints: 13877\n",
       "     Root location: validation\n",
       "     StandardTransform\n",
       " Transform: Compose(\n",
       "                Resize(size=(28, 28), interpolation=bilinear, max_size=None, antialias=warn)\n",
       "                ToTensor()\n",
       "            ))"
      ]
     },
     "execution_count": 55,
     "metadata": {},
     "output_type": "execute_result"
    }
   ],
   "source": [
    "train_data, test_data"
   ]
  },
  {
   "cell_type": "markdown",
   "metadata": {},
   "source": [
    "## Prepare dataloader"
   ]
  },
  {
   "cell_type": "code",
   "execution_count": 56,
   "metadata": {},
   "outputs": [],
   "source": [
    "from torch.utils.data import DataLoader\n",
    "\n",
    "# Set the batch size hyperparameter\n",
    "BATCH_SIZE = 64\n",
    "\n",
    "# Turn datasets into iterables (batches)\n",
    "train_dataloader = DataLoader(dataset = train_data,\n",
    "                              batch_size = BATCH_SIZE,\n",
    "                              shuffle = True)\n",
    "test_dataloader = DataLoader(dataset = test_data,\n",
    "                              batch_size = BATCH_SIZE,\n",
    "                              shuffle = False)"
   ]
  },
  {
   "cell_type": "code",
   "execution_count": 57,
   "metadata": {},
   "outputs": [
    {
     "name": "stdout",
     "output_type": "stream",
     "text": [
      "Dataloader: (<torch.utils.data.dataloader.DataLoader object at 0x17ff71cd0>, <torch.utils.data.dataloader.DataLoader object at 0x2c24dc9d0>) \n",
      "Length of train_dataloader: 646 batches of 64...\n",
      "Length of train_dataloader: 217 batches of 64...\n"
     ]
    }
   ],
   "source": [
    "# lets check what we've created\n",
    "print(f\"Dataloader: {train_dataloader, test_dataloader} \")\n",
    "print(f\"Length of train_dataloader: {len(train_dataloader)} batches of {BATCH_SIZE}...\")\n",
    "print(f\"Length of train_dataloader: {len(test_dataloader)} batches of {BATCH_SIZE}...\")"
   ]
  },
  {
   "cell_type": "markdown",
   "metadata": {},
   "source": [
    "## Setup Device  "
   ]
  },
  {
   "cell_type": "code",
   "execution_count": 58,
   "metadata": {},
   "outputs": [],
   "source": [
    "device = \"mps\""
   ]
  },
  {
   "cell_type": "markdown",
   "metadata": {},
   "source": [
    "### Function to calculate time elapsed"
   ]
  },
  {
   "cell_type": "code",
   "execution_count": 59,
   "metadata": {},
   "outputs": [],
   "source": [
    "from timeit import default_timer as timer\n",
    "def print_train_time(start:float,\n",
    "                     end: float,\n",
    "                     device: torch.device = None):\n",
    "  \"\"\"Print diff bet start and end time\"\"\"\n",
    "  total_time = end- start\n",
    "  print(f\"Train time on {device}: {total_time:.3f} seconds\")\n",
    "  return total_time"
   ]
  },
  {
   "cell_type": "markdown",
   "metadata": {},
   "source": [
    "## Defining Training and Testing Loop as train_step and test_step"
   ]
  },
  {
   "cell_type": "code",
   "execution_count": 60,
   "metadata": {},
   "outputs": [],
   "source": [
    "def train_step(model: torch.nn.Module,\n",
    "               data_loader: torch.utils.data.DataLoader,\n",
    "               loss_fn: torch.nn.Module,\n",
    "               optimizer: torch.optim.Optimizer,\n",
    "               accuracy_fn,\n",
    "               device: torch.device = device):\n",
    "  \"\"\"Performs a training with model trying to learn on data_loader\"\"\"\n",
    "  train_loss, train_acc = 0,0\n",
    "  model.train()\n",
    "\n",
    "  # Add a loop to loop through the training batches\n",
    "  for batch, (X, y) in enumerate(data_loader):\n",
    "    # Put data on target device\n",
    "    X,y = X.to(device), y.to(device)\n",
    "\n",
    "    # 1. Forward pass\n",
    "    y_pred = model(X)\n",
    "\n",
    "    # 2. Calculate loss and accuracy (per batch)\n",
    "    loss = loss_fn(y_pred, y)\n",
    "    train_loss += loss # accumulate train loss\n",
    "    train_acc += accuracy_fn(y_true = y,\n",
    "                             y_pred = y_pred.argmax(dim=1))\n",
    "\n",
    "    # 3. Optimizer zero grad\n",
    "    optimizer.zero_grad()\n",
    "\n",
    "    # 4. Loss backward\n",
    "    loss.backward()\n",
    "\n",
    "    # 5. Optimizer step\n",
    "    optimizer.step()\n",
    "\n",
    "\n",
    "\n",
    "  # Divide total train_loss  and acc by length of train dataloader\n",
    "  train_loss /= len(data_loader)\n",
    "  train_acc /= len(data_loader)\n",
    "  print(f\"Train loss: {train_loss:.5f} | Train acc:{train_acc:.2f}% \")\n",
    "\n"
   ]
  },
  {
   "cell_type": "code",
   "execution_count": 61,
   "metadata": {},
   "outputs": [],
   "source": [
    "def test_step(model: torch.nn.Module,\n",
    "              data_loader: torch.utils.data.DataLoader,\n",
    "              loss_fn: torch.nn.Module,\n",
    "              accuracy_fn,\n",
    "              device: torch.device = device):\n",
    "\n",
    "  \"\"\"Performs a testing loop step on model going over data_loader.\"\"\"\n",
    "\n",
    "  test_loss, test_acc = 0,0\n",
    "\n",
    "  model.eval()\n",
    "\n",
    "  with torch.inference_mode():\n",
    "    for X, y in data_loader:\n",
    "       # Put data to device\n",
    "       X, y = X.to(device), y.to(device)\n",
    "\n",
    "       # 1. Forward pass\n",
    "       test_pred = model(X)\n",
    "\n",
    "       # 2. Calcualte loss\n",
    "       test_loss += loss_fn(test_pred, y)\n",
    "\n",
    "       # 3. Caculate accuracy\n",
    "       test_acc += accuracy_fn(y_true = y, y_pred = test_pred.argmax(dim=1))\n",
    "\n",
    "    # Calculate the test loss avg per batch\n",
    "    test_loss /= len(data_loader)\n",
    "\n",
    "\n",
    "    # Calculate the test acc avg per batch\n",
    "    test_acc /= len(data_loader)\n",
    "\n",
    "    # pinrt out\n",
    "    print(f\"\\n Test loss: {test_loss:.5f} | Test acc: {test_acc:.2f}% \\n\")"
   ]
  },
  {
   "cell_type": "markdown",
   "metadata": {},
   "source": [
    "## Define our Custom Classifier Model"
   ]
  },
  {
   "cell_type": "code",
   "execution_count": 62,
   "metadata": {},
   "outputs": [],
   "source": [
    "class FruitClassifierModel(nn.Module):\n",
    "  \"\"\"\n",
    "  Model architecure that replicates the TinyVGG\n",
    "  Model from CNN EXPLAINER\n",
    "  \"\"\"\n",
    "  def __init__(self,\n",
    "               input_shape: int,\n",
    "               hidden_units: int,\n",
    "               output_shape:int):\n",
    "    super().__init__()\n",
    "\n",
    "    self.conv_block_1 = nn.Sequential(\n",
    "        nn.Conv2d(in_channels = input_shape,\n",
    "                  out_channels = hidden_units,\n",
    "                  kernel_size = 3,\n",
    "                  stride = 1,\n",
    "                  padding = 1), # values we can set ourselves in our NN's are called hyperparameter\n",
    "        nn.ReLU(),\n",
    "        nn.Conv2d(in_channels = hidden_units,\n",
    "                  out_channels = hidden_units,\n",
    "                  kernel_size = 3,\n",
    "                  stride = 1,\n",
    "                  padding = 1),\n",
    "        nn.ReLU(),\n",
    "        nn.MaxPool2d(kernel_size = 2)\n",
    "    )\n",
    "\n",
    "    self.conv_block_2 = nn.Sequential(\n",
    "        nn.Conv2d(in_channels = hidden_units,\n",
    "                  out_channels = hidden_units,\n",
    "                  kernel_size = 3,\n",
    "                  stride = 1,\n",
    "                  padding = 1), # values we can set ourselves in our NN's are called hyperparameter\n",
    "        nn.ReLU(),\n",
    "        nn.Conv2d(in_channels = hidden_units,\n",
    "                  out_channels = hidden_units,\n",
    "                  kernel_size = 3,\n",
    "                  stride = 1,\n",
    "                  padding = 1),\n",
    "        nn.ReLU(),\n",
    "        nn.MaxPool2d(kernel_size = 2)\n",
    "    )\n",
    "    \n",
    "    self.classifier = nn.Sequential(\n",
    "        nn.Flatten(),\n",
    "        nn.Linear(in_features = hidden_units*7*7, # there's a trick to calculate this\n",
    "                  out_features = output_shape),\n",
    "    )\n",
    "\n",
    "  def forward(self, x):\n",
    "    x = self.conv_block_1(x)\n",
    "    # print(x.shape)\n",
    "    x = self.conv_block_2(x)\n",
    "    # print(x.shape)\n",
    "    # x = self.conv_block_3(x)\n",
    "    # print(x.shape)\n",
    "    x = self.classifier(x)\n",
    "    return x"
   ]
  },
  {
   "cell_type": "code",
   "execution_count": 66,
   "metadata": {},
   "outputs": [],
   "source": [
    "torch.manual_seed(42)\n",
    "model_1 = FruitClassifierModel(input_shape = 3, # no. of channels of images\n",
    "                               hidden_units=50,\n",
    "                               output_shape = len(class_names)).to(device)"
   ]
  },
  {
   "cell_type": "code",
   "execution_count": 67,
   "metadata": {},
   "outputs": [],
   "source": [
    "# Setup loss and optimizer and evaluation metrics\n",
    "def accuracy_fn(y_true, y_pred):\n",
    "    correct = torch.eq(y_true, y_pred).sum().item()\n",
    "    acc = (correct / len(y_pred)) * 100\n",
    "    return acc\n",
    "\n",
    "loss_fn = nn.CrossEntropyLoss()\n",
    "optimizer = torch.optim.SGD(params = model_1.parameters(),\n",
    "                            lr = 0.1)"
   ]
  },
  {
   "cell_type": "code",
   "execution_count": 68,
   "metadata": {},
   "outputs": [
    {
     "name": "stderr",
     "output_type": "stream",
     "text": [
      "  0%|          | 0/3 [00:00<?, ?it/s]"
     ]
    },
    {
     "name": "stdout",
     "output_type": "stream",
     "text": [
      "Epoch:0 \n",
      "-------\n",
      "Train loss: 3.49675 | Train acc:17.85% \n"
     ]
    },
    {
     "name": "stderr",
     "output_type": "stream",
     "text": [
      " 33%|███▎      | 1/3 [00:27<00:55, 27.91s/it]"
     ]
    },
    {
     "name": "stdout",
     "output_type": "stream",
     "text": [
      "\n",
      " Test loss: 2.19268 | Test acc: 41.15% \n",
      "\n",
      "Epoch:1 \n",
      "-------\n",
      "Train loss: 0.39920 | Train acc:89.81% \n"
     ]
    },
    {
     "name": "stderr",
     "output_type": "stream",
     "text": [
      " 67%|██████▋   | 2/3 [00:52<00:25, 25.81s/it]"
     ]
    },
    {
     "name": "stdout",
     "output_type": "stream",
     "text": [
      "\n",
      " Test loss: 0.51764 | Test acc: 88.57% \n",
      "\n",
      "Epoch:2 \n",
      "-------\n",
      "Train loss: 0.05482 | Train acc:98.83% \n"
     ]
    },
    {
     "name": "stderr",
     "output_type": "stream",
     "text": [
      "100%|██████████| 3/3 [01:16<00:00, 25.40s/it]"
     ]
    },
    {
     "name": "stdout",
     "output_type": "stream",
     "text": [
      "\n",
      " Test loss: 0.50161 | Test acc: 89.12% \n",
      "\n",
      "Train time on mps:0: 76.196 seconds\n"
     ]
    },
    {
     "name": "stderr",
     "output_type": "stream",
     "text": [
      "\n"
     ]
    }
   ],
   "source": [
    "# Import tqdm for progress bar\n",
    "from tqdm import tqdm\n",
    "\n",
    "# set the seed and start the time\n",
    "torch.manual_seed(42)\n",
    "train_time_start_on_gpu = timer()\n",
    "\n",
    "# Set the no. of epochs\n",
    "epochs = 3\n",
    "\n",
    "# Create optimization and evaluation loop using train_step and test_step\n",
    "for epoch in tqdm(range(epochs)):\n",
    "  print(f\"Epoch:{epoch} \\n-------\")\n",
    "  ### Training\n",
    "  train_step(model = model_1,\n",
    "             data_loader = train_dataloader,\n",
    "             loss_fn = loss_fn,\n",
    "             optimizer = optimizer,\n",
    "             accuracy_fn=accuracy_fn,\n",
    "             device=device)\n",
    "\n",
    "  ### Testing\n",
    "  test_step(model = model_1,\n",
    "            data_loader = test_dataloader,\n",
    "            loss_fn = loss_fn,\n",
    "            accuracy_fn=accuracy_fn,\n",
    "            device=device)\n",
    "\n",
    "# calculate the training time\n",
    "train_time_end_on_gpu = timer()\n",
    "total_train_time_model_1 = print_train_time(start = train_time_start_on_gpu,\n",
    "                                            end = train_time_end_on_gpu,\n",
    "                                            device = str(next(model_1.parameters()).device))\n"
   ]
  },
  {
   "cell_type": "code",
   "execution_count": 71,
   "metadata": {},
   "outputs": [
    {
     "name": "stderr",
     "output_type": "stream",
     "text": [
      "100%|██████████| 217/217 [00:11<00:00, 19.51it/s]\n"
     ]
    },
    {
     "data": {
      "text/plain": [
       "{'model_name': 'FruitClassifierModel',\n",
       " 'model_loss': 0.501611053943634,\n",
       " 'model_acc': 89.12010368663594}"
      ]
     },
     "execution_count": 71,
     "metadata": {},
     "output_type": "execute_result"
    }
   ],
   "source": [
    "torch.manual_seed(42)\n",
    "def eval_model(model:torch.nn.Module,\n",
    "               data_loader: torch.utils.data.DataLoader,\n",
    "               loss_fn: torch.nn.Module,\n",
    "               accuracy_fn,\n",
    "               device: torch.device = device ):\n",
    "  \"\"\" Returna dictionary containing the results of model predicting on data_loader\"\"\"\n",
    "  loss, acc = 0,0\n",
    "  model.eval()\n",
    "  with torch.inference_mode():\n",
    "    for X,y in tqdm(data_loader):\n",
    "      # Put data to device\n",
    "      X,y = X.to(device), y.to(device)\n",
    "\n",
    "      # make prediction\n",
    "      y_pred = model(X)\n",
    "\n",
    "      # Accumulate the loss and acc values per batch\n",
    "      loss += loss_fn(y_pred, y)\n",
    "      acc += accuracy_fn(y_true=y,\n",
    "                         y_pred = y_pred.argmax(dim =1 ))\n",
    "\n",
    "    # Scale loss and acc to find the avg loss/acc per batch\n",
    "    loss /= len(data_loader)\n",
    "    acc /= len(data_loader)\n",
    "\n",
    "\n",
    "  return {\"model_name\": model.__class__.__name__, # only works when model was created with class}\n",
    "          \"model_loss\": loss.item(),\n",
    "          \"model_acc\": acc}\n",
    "\n",
    "# Calculate model 0 resutlst on test dataset\n",
    "\n",
    "model_1_results = eval_model(model= model_1,\n",
    "                             data_loader = test_dataloader,\n",
    "                             loss_fn = loss_fn,\n",
    "                             accuracy_fn = accuracy_fn)\n",
    "\n",
    "model_1_results"
   ]
  }
 ],
 "metadata": {
  "kernelspec": {
   "display_name": "stable_diffusion",
   "language": "python",
   "name": "python3"
  },
  "language_info": {
   "codemirror_mode": {
    "name": "ipython",
    "version": 3
   },
   "file_extension": ".py",
   "mimetype": "text/x-python",
   "name": "python",
   "nbconvert_exporter": "python",
   "pygments_lexer": "ipython3",
   "version": "3.11.8"
  }
 },
 "nbformat": 4,
 "nbformat_minor": 2
}
